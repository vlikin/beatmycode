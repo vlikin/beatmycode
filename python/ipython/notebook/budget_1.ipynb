{
 "metadata": {
  "name": ""
 },
 "nbformat": 3,
 "nbformat_minor": 0,
 "worksheets": [
  {
   "cells": [
    {
     "cell_type": "markdown",
     "metadata": {},
     "source": [
      "%load https://raw.githubusercontent.com/vlikin/budget/master/ext/shell/real_data_v1/expenses.csv"
     ]
    },
    {
     "cell_type": "code",
     "collapsed": false,
     "input": [
      "%load https://raw.githubusercontent.com/vlikin/budget/master/ext/shell/real_data_v1/expenses.csv"
     ],
     "language": "python",
     "metadata": {},
     "outputs": [],
     "prompt_number": 1
    },
    {
     "cell_type": "code",
     "collapsed": false,
     "input": [
      "27.10.2014,65,Minibus k-c\n",
      "27.10.2014,45,Dinner\n",
      "27.10.2014,2,Metro\n",
      "27.10.2014,35,Lunch\n",
      "27.10.2014,100,Hostel\n",
      "28.10.2014,45,Dinner\n",
      "28.10.2014,22,Lunch\n",
      "28.10.2014,100,Hostel\n",
      "29.10.2014,23,Lunch\n",
      "29.10.2014,45,Lunch\n",
      "29.10.2014,15,Bank\n",
      "29.10.2014,28,Billiards\n",
      "29.10.2014,53,Supper\n",
      "29.10.2014,100,Hostel\n",
      "29.10.2014,20,Metro\n",
      "29.10.2014,10,Metro\n",
      "30.10.2014,100,Hostel\n",
      "30.10.2014,22,Lunch\n",
      "30.10.2014,37,Dinner\n",
      "31.10.2014,41,Supper\n",
      "31.10.2014,19,Lunch\n",
      "31.10.2014,45,Dinner\n",
      "31.10.2014,65,Minibus k-c\n",
      "03.11.2014,65,Minibus k-c\n",
      "03.11.2014,45,Dinner\n",
      "03.11.2014,30,Supper\n",
      "03.11.2014,\"105,22\",Drags\n",
      "03.11.2014,\"20,77\",Drags\n",
      "03.11.2014,100,Hostel\n",
      "04.11.2014,\"16,55\",Lunch\n",
      "04.11.2014,45,Dinner\n",
      "04.11.2014,\"37,5\",Supper\n",
      "04.11.2014,100,Hostel\n",
      "05.11.2014,\"19,16\",Lunch\n",
      "05.11.2014,45,Dinner\n",
      "05.11.2014,\"37,5\",Lunch\n",
      "05.11.2014,100,Entertainment\n",
      "05.11.2014,100,Hostel\n",
      "06.11.2014,\"19,16\",Lunch\n",
      "06.11.2014,45,Dinner\n",
      "06.11.2014,140,Lunch\n",
      "06.11.2014,100,Entertainment\n",
      "06.11.2014,100,Hostel\n",
      "07.11.2014,\"5,32\",Napkins\n",
      "07.11.2014,\"19,16\",Lunch\n",
      "07.11.2014,45,Dinner\n",
      "07.11.2014,65,Minibus k-c"
     ],
     "language": "python",
     "metadata": {},
     "outputs": []
    },
    {
     "cell_type": "code",
     "collapsed": false,
     "input": [
      "%load?"
     ],
     "language": "python",
     "metadata": {},
     "outputs": [],
     "prompt_number": 2
    },
    {
     "cell_type": "code",
     "collapsed": false,
     "input": [],
     "language": "python",
     "metadata": {},
     "outputs": []
    }
   ],
   "metadata": {}
  }
 ]
}